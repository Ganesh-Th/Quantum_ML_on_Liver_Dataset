{
 "cells": [
  {
   "cell_type": "code",
   "execution_count": 1,
   "id": "87eaf959",
   "metadata": {},
   "outputs": [],
   "source": [
    "import pandas as pd\n",
    "import numpy as np\n",
    "import seaborn as sns\n",
    "import matplotlib.pyplot as plt\n",
    "# Define models to train\n",
    "from sklearn.model_selection import KFold, cross_val_score\n",
    "\n",
    "from sklearn.ensemble import RandomForestClassifier\n",
    "from sklearn.neural_network import MLPClassifier\n",
    "\n",
    "from sklearn.preprocessing import StandardScaler\n",
    "from sklearn.model_selection import train_test_split\n",
    "from sklearn.metrics import accuracy_score,classification_report"
   ]
  },
  {
   "cell_type": "code",
   "execution_count": 2,
   "id": "1ae3555d",
   "metadata": {},
   "outputs": [
    {
     "data": {
      "text/html": [
       "<div>\n",
       "<style scoped>\n",
       "    .dataframe tbody tr th:only-of-type {\n",
       "        vertical-align: middle;\n",
       "    }\n",
       "\n",
       "    .dataframe tbody tr th {\n",
       "        vertical-align: top;\n",
       "    }\n",
       "\n",
       "    .dataframe thead th {\n",
       "        text-align: right;\n",
       "    }\n",
       "</style>\n",
       "<table border=\"1\" class=\"dataframe\">\n",
       "  <thead>\n",
       "    <tr style=\"text-align: right;\">\n",
       "      <th></th>\n",
       "      <th>Age</th>\n",
       "      <th>Gender</th>\n",
       "      <th>TB</th>\n",
       "      <th>DB</th>\n",
       "      <th>Alkphos</th>\n",
       "      <th>Sgpt</th>\n",
       "      <th>Sgot</th>\n",
       "      <th>TP</th>\n",
       "      <th>ALB</th>\n",
       "      <th>A/G Ratio</th>\n",
       "      <th>Selector</th>\n",
       "    </tr>\n",
       "  </thead>\n",
       "  <tbody>\n",
       "    <tr>\n",
       "      <th>0</th>\n",
       "      <td>65</td>\n",
       "      <td>0</td>\n",
       "      <td>0.7</td>\n",
       "      <td>0.1</td>\n",
       "      <td>187</td>\n",
       "      <td>16</td>\n",
       "      <td>18</td>\n",
       "      <td>6.8</td>\n",
       "      <td>3.3</td>\n",
       "      <td>0.90</td>\n",
       "      <td>1</td>\n",
       "    </tr>\n",
       "    <tr>\n",
       "      <th>1</th>\n",
       "      <td>62</td>\n",
       "      <td>1</td>\n",
       "      <td>10.9</td>\n",
       "      <td>5.5</td>\n",
       "      <td>699</td>\n",
       "      <td>64</td>\n",
       "      <td>100</td>\n",
       "      <td>7.5</td>\n",
       "      <td>3.2</td>\n",
       "      <td>0.74</td>\n",
       "      <td>1</td>\n",
       "    </tr>\n",
       "    <tr>\n",
       "      <th>2</th>\n",
       "      <td>62</td>\n",
       "      <td>1</td>\n",
       "      <td>7.3</td>\n",
       "      <td>4.1</td>\n",
       "      <td>490</td>\n",
       "      <td>60</td>\n",
       "      <td>68</td>\n",
       "      <td>7.0</td>\n",
       "      <td>3.3</td>\n",
       "      <td>0.89</td>\n",
       "      <td>1</td>\n",
       "    </tr>\n",
       "    <tr>\n",
       "      <th>3</th>\n",
       "      <td>58</td>\n",
       "      <td>1</td>\n",
       "      <td>1.0</td>\n",
       "      <td>0.4</td>\n",
       "      <td>182</td>\n",
       "      <td>14</td>\n",
       "      <td>20</td>\n",
       "      <td>6.8</td>\n",
       "      <td>3.4</td>\n",
       "      <td>1.00</td>\n",
       "      <td>1</td>\n",
       "    </tr>\n",
       "    <tr>\n",
       "      <th>4</th>\n",
       "      <td>72</td>\n",
       "      <td>1</td>\n",
       "      <td>3.9</td>\n",
       "      <td>2.0</td>\n",
       "      <td>195</td>\n",
       "      <td>27</td>\n",
       "      <td>59</td>\n",
       "      <td>7.3</td>\n",
       "      <td>2.4</td>\n",
       "      <td>0.40</td>\n",
       "      <td>1</td>\n",
       "    </tr>\n",
       "  </tbody>\n",
       "</table>\n",
       "</div>"
      ],
      "text/plain": [
       "   Age   Gender    TB   DB  Alkphos  Sgpt  Sgot   TP  ALB  A/G Ratio  Selector\n",
       "0    65       0   0.7  0.1      187    16    18  6.8  3.3       0.90         1\n",
       "1    62       1  10.9  5.5      699    64   100  7.5  3.2       0.74         1\n",
       "2    62       1   7.3  4.1      490    60    68  7.0  3.3       0.89         1\n",
       "3    58       1   1.0  0.4      182    14    20  6.8  3.4       1.00         1\n",
       "4    72       1   3.9  2.0      195    27    59  7.3  2.4       0.40         1"
      ]
     },
     "execution_count": 2,
     "metadata": {},
     "output_type": "execute_result"
    }
   ],
   "source": [
    "file_path=\"D:/Github_local/Quantum_ML_mini_project/Classical ML/Cleaned_data.csv\"\n",
    "df=pd.read_csv(file_path)\n",
    "df.head()"
   ]
  },
  {
   "cell_type": "markdown",
   "id": "0b3ffbca",
   "metadata": {},
   "source": [
    "# Training and Testing Datasets over Several Model"
   ]
  },
  {
   "cell_type": "code",
   "execution_count": 3,
   "id": "12d5ecd0",
   "metadata": {},
   "outputs": [
    {
     "name": "stdout",
     "output_type": "stream",
     "text": [
      "(437, 10) (146, 10) (437,) (146,)\n"
     ]
    }
   ],
   "source": [
    "#Split the data into predictor variables and target variable, following by breaking them into train and test sets. \n",
    "Y = df['Selector'].values\n",
    "X = df.drop(['Selector'], axis=1).values\n",
    "\n",
    "scaler = StandardScaler()\n",
    "X = scaler.fit_transform(X)\n",
    "\n",
    "X_train, X_test, Y_train, Y_test = train_test_split (X, Y, test_size = 0.25, random_state=42)\n",
    "print(X_train.shape, X_test.shape, Y_train.shape, Y_test.shape)"
   ]
  },
  {
   "cell_type": "code",
   "execution_count": 4,
   "id": "1cb7db90",
   "metadata": {},
   "outputs": [
    {
     "name": "stdout",
     "output_type": "stream",
     "text": [
      "(624, 10) (208, 10) (624,) (208,)\n"
     ]
    }
   ],
   "source": [
    "from imblearn.over_sampling import SMOTE\n",
    "\n",
    "smote = SMOTE(random_state=42)\n",
    "X_resampled, Y_resampled = smote.fit_resample(X, Y)\n",
    "X_train_resampled, X_test_resampled, Y_train_resampled, Y_test_resampled = train_test_split(X_resampled, Y_resampled, test_size=0.25, random_state=42)\n",
    "print(X_train_resampled.shape, X_test_resampled.shape, Y_train_resampled.shape, Y_test_resampled.shape)"
   ]
  },
  {
   "cell_type": "markdown",
   "id": "f5426ca8-c2b0-4234-a976-0a05a52e218d",
   "metadata": {},
   "source": [
    "IBM Qiskit Quantum Implementation"
   ]
  },
  {
   "cell_type": "code",
   "execution_count": 5,
   "id": "1e75fe28",
   "metadata": {},
   "outputs": [],
   "source": [
    "# Import necessary libraries\n",
    "import numpy as np\n",
    "from qiskit_aer import Aer\n",
    "from qiskit_machine_learning.algorithms.classifiers import VQC\n",
    "from sklearn.base import BaseEstimator, ClassifierMixin\n",
    "from sklearn.neural_network import MLPClassifier\n",
    "from sklearn.ensemble import VotingClassifier\n",
    "from sklearn.metrics import accuracy_score\n",
    "from sklearn.model_selection import train_test_split\n",
    "\n",
    "# Custom Wrapper Class for VQC\n",
    "class VQCWrapper(BaseEstimator, ClassifierMixin):\n",
    "    def __init__(self, vqc):\n",
    "        self.vqc = vqc\n",
    "    \n",
    "    def fit(self, X, y):\n",
    "        self.vqc.fit(X, y)\n",
    "    \n",
    "    def predict(self, X):\n",
    "        return self.vqc.predict(X)\n",
    "\n",
    "#Feature_map\n",
    "from qiskit.circuit.library import ZZFeatureMap\n",
    "num_features = X.shape[1]\n",
    "feature_map = ZZFeatureMap(feature_dimension=num_features, reps=1)\n",
    "#ansatz\n",
    "from qiskit.circuit.library import RealAmplitudes\n",
    "ansatz = RealAmplitudes(num_qubits=num_features, reps=3)\n",
    "#optimizer and sampler\n",
    "from qiskit_algorithms.optimizers import COBYLA\n",
    "optimizer = COBYLA(maxiter=20)\n",
    "from qiskit.primitives import Sampler\n",
    "\n",
    "sampler = Sampler()\n",
    "\n",
    "# Assuming you have X_train, X_test, y_train, y_test as your data\n",
    "# Creating VQC\n",
    "vqc = VQC(feature_map=feature_map, ansatz=ansatz, optimizer=optimizer)\n",
    "\n",
    "# # Set the backend for VQC\n",
    "# backend = Aer.get_backend('qasm_simulator')\n",
    "# vqc.set_backend(backend)\n",
    "\n",
    "# Create VQC Wrapper\n",
    "vqc_wrapper = VQCWrapper(vqc)\n",
    "# Train VQC\n",
    "vqc_wrapper.fit(X_train_resampled, Y_train_resampled)"
   ]
  },
  {
   "cell_type": "code",
   "execution_count": 6,
   "id": "fc00ee2d-5426-40b6-a09c-445ab52bf4fa",
   "metadata": {},
   "outputs": [
    {
     "name": "stdout",
     "output_type": "stream",
     "text": [
      "Ensemble Model Accuracy: 0.8904109589041096\n"
     ]
    }
   ],
   "source": [
    "# Creating RDC\n",
    "RDC = RandomForestClassifier(n_estimators=10)\n",
    "# Train ANN\n",
    "RDC.fit(X_train_resampled, Y_train_resampled)\n",
    "\n",
    "# Get RDC predictions\n",
    "rdc_predictions = RDC.predict(X_test)\n",
    "\n",
    "# Ensemble Model\n",
    "ensemble_rdc_model = VotingClassifier(estimators=[\n",
    "    ('vqc', vqc_wrapper),\n",
    "    ('rdc', RDC)\n",
    "], voting='hard')\n",
    "\n",
    "# Train Ensemble Model\n",
    "ensemble_rdc_model.fit(X_train_resampled, Y_train_resampled)\n",
    "\n",
    "# Get Ensemble Model predictions\n",
    "ensemble_rdc_predictions = ensemble_rdc_model.predict(X_test)\n",
    "\n",
    "# Evaluate models\n",
    "print(\"Ensemble Model Accuracy:\", accuracy_score(Y_test, ensemble_rdc_predictions))\n"
   ]
  },
  {
   "cell_type": "code",
   "execution_count": 7,
   "id": "cd25df74-bd89-474e-aeb1-c767c99d3bd6",
   "metadata": {},
   "outputs": [
    {
     "name": "stderr",
     "output_type": "stream",
     "text": [
      "c:\\Python312\\Lib\\site-packages\\sklearn\\neural_network\\_multilayer_perceptron.py:691: ConvergenceWarning: Stochastic Optimizer: Maximum iterations (200) reached and the optimization hasn't converged yet.\n",
      "  warnings.warn(\n",
      "c:\\Python312\\Lib\\site-packages\\sklearn\\neural_network\\_multilayer_perceptron.py:691: ConvergenceWarning: Stochastic Optimizer: Maximum iterations (200) reached and the optimization hasn't converged yet.\n",
      "  warnings.warn(\n"
     ]
    },
    {
     "name": "stdout",
     "output_type": "stream",
     "text": [
      "Ensemble Model Accuracy: 0.7534246575342466\n"
     ]
    }
   ],
   "source": [
    "# Creating ANN\n",
    "ANN = MLPClassifier(activation=\"relu\",solver =\"adam\",random_state=42)\n",
    "# Train ANN\n",
    "ANN.fit(X_train_resampled, Y_train_resampled)\n",
    "\n",
    "# Get ANN predictions\n",
    "ann_predictions = ANN.predict(X_test)\n",
    "\n",
    "# Ensemble Model\n",
    "ensemble_ann_model = VotingClassifier(estimators=[\n",
    "    ('vqc', vqc_wrapper),\n",
    "    ('ann', ANN)\n",
    "], voting='hard')\n",
    "\n",
    "# Train Ensemble Model\n",
    "ensemble_ann_model.fit(X_train_resampled, Y_train_resampled)\n",
    "\n",
    "# Get Ensemble Model predictions\n",
    "ensemble_ann_predictions = ensemble_ann_model.predict(X_test)\n",
    "\n",
    "# Evaluate models\n",
    "print(\"Ensemble Model Accuracy:\", accuracy_score(Y_test, ensemble_ann_predictions))\n"
   ]
  },
  {
   "cell_type": "code",
   "execution_count": 8,
   "id": "c6b638f4-5b64-4e8b-8027-cebccbe2876d",
   "metadata": {},
   "outputs": [
    {
     "name": "stdout",
     "output_type": "stream",
     "text": [
      "\n",
      "Ensemble ANN REPORT:\n",
      "               precision    recall  f1-score   support\n",
      "\n",
      "           1       0.88      0.77      0.82       109\n",
      "           2       0.51      0.70      0.59        37\n",
      "\n",
      "    accuracy                           0.75       146\n",
      "   macro avg       0.70      0.74      0.71       146\n",
      "weighted avg       0.79      0.75      0.76       146\n",
      "\n",
      "\n",
      "Ensemble RFC REPORT:\n",
      "               precision    recall  f1-score   support\n",
      "\n",
      "           1       0.91      0.94      0.93       109\n",
      "           2       0.82      0.73      0.77        37\n",
      "\n",
      "    accuracy                           0.89       146\n",
      "   macro avg       0.86      0.84      0.85       146\n",
      "weighted avg       0.89      0.89      0.89       146\n",
      "\n"
     ]
    }
   ],
   "source": [
    "from sklearn.metrics import classification_report\n",
    "\n",
    "\n",
    "ensemble_ann_report = classification_report(Y_test, ensemble_ann_predictions)\n",
    "print(\"\\nEnsemble ANN REPORT:\\n\",ensemble_ann_report)\n",
    "ensemble_rdc_report = classification_report(Y_test, ensemble_rdc_predictions)\n",
    "print(\"\\nEnsemble RFC REPORT:\\n\",ensemble_rdc_report)"
   ]
  },
  {
   "cell_type": "code",
   "execution_count": null,
   "id": "723208c9-cc0e-4fe1-81de-4bda5f8a834b",
   "metadata": {},
   "outputs": [],
   "source": []
  }
 ],
 "metadata": {
  "kernelspec": {
   "display_name": "Python 3 (ipykernel)",
   "language": "python",
   "name": "python3"
  },
  "language_info": {
   "codemirror_mode": {
    "name": "ipython",
    "version": 3
   },
   "file_extension": ".py",
   "mimetype": "text/x-python",
   "name": "python",
   "nbconvert_exporter": "python",
   "pygments_lexer": "ipython3",
   "version": "3.12.1"
  }
 },
 "nbformat": 4,
 "nbformat_minor": 5
}
