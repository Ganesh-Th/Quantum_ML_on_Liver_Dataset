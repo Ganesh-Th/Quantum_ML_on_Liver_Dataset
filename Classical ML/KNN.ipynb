{
 "cells": [
  {
   "cell_type": "code",
   "execution_count": 8,
   "metadata": {},
   "outputs": [],
   "source": [
    "import pandas as pd\n",
    "import numpy as np\n",
    "from sklearn.preprocessing import LabelEncoder\n",
    "\n",
    "from sklearn.svm import SVC\n",
    "from sklearn.neighbors import KNeighborsClassifier\n",
    "from sklearn.model_selection import train_test_split\n",
    "from sklearn.metrics import accuracy_score,classification_report"
   ]
  },
  {
   "cell_type": "code",
   "execution_count": 10,
   "metadata": {},
   "outputs": [],
   "source": [
    "file_path=\"C:/Users/Alind/Quantum_ML_on_Liver_Dataset/ILPD.csv\"\n",
    "df=pd.read_csv(file_path)\n",
    "\n",
    "df['Gender']= LabelEncoder().fit_transform(df['Gender'])\n",
    "#filling na value with mean value\n",
    "df['A/G Ratio'].fillna(value=df['A/G Ratio'].mean(), inplace=True)\n",
    "\n",
    "df.head()\n",
    "df.to_csv(\"Cleaned_data.csv\")"
   ]
  },
  {
   "cell_type": "code",
   "execution_count": 12,
   "metadata": {},
   "outputs": [
    {
     "name": "stdout",
     "output_type": "stream",
     "text": [
      "(437, 10) (146, 10) (437,) (146,)\n"
     ]
    }
   ],
   "source": [
    "#Split the data into predictor variables and target variable, following by breaking them into train and test sets. \n",
    "Y = df['Selector'].values\n",
    "X = df.drop(['Selector'], axis=1).values\n",
    "X_train, X_test, Y_train, Y_test = train_test_split (X, Y, test_size = 0.25)\n",
    "print(X_train.shape, X_test.shape, Y_train.shape, Y_test.shape)"
   ]
  },
  {
   "cell_type": "code",
   "execution_count": 61,
   "metadata": {},
   "outputs": [
    {
     "name": "stdout",
     "output_type": "stream",
     "text": [
      "Accuracy score: 0.7123287671232876\n",
      "Classification report:\n",
      "               precision    recall  f1-score   support\n",
      "\n",
      "           1       0.76      0.86      0.81       101\n",
      "           2       0.55      0.38      0.45        45\n",
      "\n",
      "    accuracy                           0.71       146\n",
      "   macro avg       0.65      0.62      0.63       146\n",
      "weighted avg       0.69      0.71      0.70       146\n",
      "\n"
     ]
    }
   ],
   "source": [
    "model = KNeighborsClassifier(n_neighbors=5)\n",
    "model.fit(X_train, Y_train)\n",
    "predictions = model.predict(X_test)\n",
    "\n",
    "print(\"Accuracy score:\",accuracy_score(Y_test, predictions))\n",
    "print(\"Classification report:\\n\",classification_report(Y_test, predictions)) "
   ]
  },
  {
   "cell_type": "markdown",
   "metadata": {},
   "source": [
    "KNN after PCA"
   ]
  },
  {
   "cell_type": "code",
   "execution_count": 52,
   "metadata": {},
   "outputs": [],
   "source": [
    "file_path=\"C:/Users/Alind/Quantum_ML_on_Liver_Dataset/EDA/feature_pca_test.csv\"\n",
    "test=pd.read_csv(file_path,header=None)\n",
    "\n",
    "file_path=\"C:/Users/Alind/Quantum_ML_on_Liver_Dataset/EDA/feature_pca_train.csv\"\n",
    "train=pd.read_csv(file_path,header=None)"
   ]
  },
  {
   "cell_type": "code",
   "execution_count": 53,
   "metadata": {},
   "outputs": [],
   "source": [
    "xpca_test = test\n",
    "xpca_train = train\n",
    "\n",
    "model = KNeighborsClassifier(n_neighbors=5)\n",
    "model.fit(xpca_train, Y_train)\n",
    "predictions = model.predict(xpca_test)\n"
   ]
  },
  {
   "cell_type": "code",
   "execution_count": 54,
   "metadata": {},
   "outputs": [
    {
     "name": "stdout",
     "output_type": "stream",
     "text": [
      "Accuracy score: 0.6164383561643836\n",
      "Classification report:\n",
      "               precision    recall  f1-score   support\n",
      "\n",
      "           1       0.69      0.81      0.75       101\n",
      "           2       0.30      0.18      0.22        45\n",
      "\n",
      "    accuracy                           0.62       146\n",
      "   macro avg       0.49      0.49      0.48       146\n",
      "weighted avg       0.57      0.62      0.58       146\n",
      "\n"
     ]
    }
   ],
   "source": [
    "\n",
    "print(\"Accuracy score:\",accuracy_score(Y_test, predictions))\n",
    "print(\"Classification report:\\n\",classification_report(Y_test, predictions)) "
   ]
  },
  {
   "cell_type": "markdown",
   "metadata": {},
   "source": [
    "KNN after SMOTE"
   ]
  },
  {
   "cell_type": "code",
   "execution_count": 58,
   "metadata": {},
   "outputs": [],
   "source": [
    "file_path=\"C:/Users/Alind/Quantum_ML_on_Liver_Dataset/EDA/feature_smote_test.csv\"\n",
    "test=pd.read_csv(file_path,header=None)\n",
    "\n",
    "file_path=\"C:/Users/Alind/Quantum_ML_on_Liver_Dataset/EDA/feature_smote_train.csv\"\n",
    "train=pd.read_csv(file_path,header=None)\n",
    "\n",
    "file_path=\"C:/Users/Alind/Quantum_ML_on_Liver_Dataset/EDA/label_smote_test.csv\"\n",
    "labeltest=pd.read_csv(file_path,header=None)\n",
    "\n",
    "file_path=\"C:/Users/Alind/Quantum_ML_on_Liver_Dataset/EDA/label_smote_train.csv\"\n",
    "labeltrain=pd.read_csv(file_path,header=None)"
   ]
  },
  {
   "cell_type": "code",
   "execution_count": 59,
   "metadata": {},
   "outputs": [
    {
     "name": "stderr",
     "output_type": "stream",
     "text": [
      "c:\\Python310\\lib\\site-packages\\sklearn\\neighbors\\_classification.py:238: DataConversionWarning: A column-vector y was passed when a 1d array was expected. Please change the shape of y to (n_samples,), for example using ravel().\n",
      "  return self._fit(X, y)\n"
     ]
    }
   ],
   "source": [
    "xsmote_test = test\n",
    "xsmote_train = train\n",
    "ysmote_test = labeltest\n",
    "ysmote_train = labeltrain\n",
    "\n",
    "model = KNeighborsClassifier(n_neighbors=5)\n",
    "model.fit(xsmote_train, ysmote_train)\n",
    "predictions = model.predict(xsmote_test)\n"
   ]
  },
  {
   "cell_type": "code",
   "execution_count": 60,
   "metadata": {},
   "outputs": [
    {
     "name": "stdout",
     "output_type": "stream",
     "text": [
      "Accuracy score: 0.6858974358974359\n",
      "Classification report:\n",
      "               precision    recall  f1-score   support\n",
      "\n",
      "         1.0       0.79      0.54      0.64        81\n",
      "         2.0       0.63      0.84      0.72        75\n",
      "\n",
      "    accuracy                           0.69       156\n",
      "   macro avg       0.71      0.69      0.68       156\n",
      "weighted avg       0.71      0.69      0.68       156\n",
      "\n"
     ]
    }
   ],
   "source": [
    "print(\"Accuracy score:\",accuracy_score(ysmote_test, predictions))\n",
    "print(\"Classification report:\\n\",classification_report(ysmote_test, predictions)) "
   ]
  }
 ],
 "metadata": {
  "kernelspec": {
   "display_name": "Python 3",
   "language": "python",
   "name": "python3"
  },
  "language_info": {
   "codemirror_mode": {
    "name": "ipython",
    "version": 3
   },
   "file_extension": ".py",
   "mimetype": "text/x-python",
   "name": "python",
   "nbconvert_exporter": "python",
   "pygments_lexer": "ipython3",
   "version": "3.10.7"
  }
 },
 "nbformat": 4,
 "nbformat_minor": 2
}
