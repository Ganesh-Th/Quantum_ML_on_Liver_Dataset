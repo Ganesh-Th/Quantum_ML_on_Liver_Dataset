{
 "cells": [
  {
   "cell_type": "code",
   "execution_count": 1,
   "metadata": {},
   "outputs": [],
   "source": [
    "import pandas as pd\n",
    "import numpy as np\n",
    "from sklearn.preprocessing import LabelEncoder\n",
    "from sklearn.ensemble import RandomForestClassifier\n",
    "\n",
    "from sklearn.svm import SVC\n",
    "from sklearn.model_selection import train_test_split\n",
    "from sklearn.metrics import accuracy_score,classification_report"
   ]
  },
  {
   "cell_type": "code",
   "execution_count": 2,
   "metadata": {},
   "outputs": [],
   "source": [
    "file_path=\"C:/Users/aryan/Quantum_ML_on_Liver_Dataset/ILPD.csv\"\n",
    "df=pd.read_csv(file_path)\n",
    "\n",
    "df['Gender']= LabelEncoder().fit_transform(df['Gender'])\n",
    "#filling na value with mean value\n",
    "df['A/G Ratio'].fillna(value=df['A/G Ratio'].mean(), inplace=True)\n",
    "\n",
    "df.head()\n",
    "df.to_csv(\"Cleaned_data.csv\")"
   ]
  },
  {
   "cell_type": "code",
   "execution_count": 3,
   "metadata": {},
   "outputs": [
    {
     "name": "stdout",
     "output_type": "stream",
     "text": [
      "(437, 10) (146, 10) (437,) (146,)\n"
     ]
    }
   ],
   "source": [
    "#Split the data into predictor variables and target variable, following by breaking them into train and test sets. \n",
    "Y = df['Selector'].values\n",
    "X = df.drop(['Selector'], axis=1).values\n",
    "X_train, X_test, Y_train, Y_test = train_test_split (X, Y, test_size = 0.25)\n",
    "print(X_train.shape, X_test.shape, Y_train.shape, Y_test.shape)"
   ]
  },
  {
   "cell_type": "code",
   "execution_count": 4,
   "metadata": {},
   "outputs": [
    {
     "name": "stdout",
     "output_type": "stream",
     "text": [
      "Accuracy score: 0.6986301369863014\n",
      "Classification report:\n",
      "               precision    recall  f1-score   support\n",
      "\n",
      "           1       0.75      0.88      0.81       106\n",
      "           2       0.41      0.23      0.29        40\n",
      "\n",
      "    accuracy                           0.70       146\n",
      "   macro avg       0.58      0.55      0.55       146\n",
      "weighted avg       0.66      0.70      0.67       146\n",
      "\n"
     ]
    }
   ],
   "source": [
    "model = RandomForestClassifier(n_estimators=10)\n",
    "model.fit(X_train, Y_train)\n",
    "predictions = model.predict(X_test)\n",
    "\n",
    "print(\"Accuracy score:\",accuracy_score(Y_test, predictions))\n",
    "print(\"Classification report:\\n\",classification_report(Y_test, predictions)) "
   ]
  },
  {
   "cell_type": "code",
   "execution_count": 5,
   "metadata": {},
   "outputs": [],
   "source": [
    "file_path=r\"C:\\Users\\aryan\\Quantum_ML_on_Liver_Dataset\\EDA\\feature_pca_test.csv\"\n",
    "test=pd.read_csv(file_path,header=None)\n",
    "\n",
    "file_path=r\"C:\\Users\\aryan\\Quantum_ML_on_Liver_Dataset\\EDA\\feature_pca_train.csv\"\n",
    "train=pd.read_csv(file_path,header=None)\n"
   ]
  },
  {
   "cell_type": "code",
   "execution_count": 6,
   "metadata": {},
   "outputs": [
    {
     "name": "stdout",
     "output_type": "stream",
     "text": [
      "(437, 7)\n",
      "(146, 7)\n"
     ]
    }
   ],
   "source": [
    "xpca_test = test\n",
    "xpca_train = train\n",
    "print(xpca_train.shape)\n",
    "print(xpca_test.shape)\n",
    "\n",
    "\n",
    "model = RandomForestClassifier(n_estimators=10)\n",
    "model.fit(xpca_train, Y_train)\n",
    "predictions = model.predict(xpca_test)\n"
   ]
  },
  {
   "cell_type": "code",
   "execution_count": 7,
   "metadata": {},
   "outputs": [
    {
     "name": "stdout",
     "output_type": "stream",
     "text": [
      "Accuracy score: 0.6986301369863014\n",
      "Classification report:\n",
      "               precision    recall  f1-score   support\n",
      "\n",
      "           1       0.73      0.92      0.82       106\n",
      "           2       0.36      0.12      0.19        40\n",
      "\n",
      "    accuracy                           0.70       146\n",
      "   macro avg       0.55      0.52      0.50       146\n",
      "weighted avg       0.63      0.70      0.64       146\n",
      "\n"
     ]
    }
   ],
   "source": [
    "\n",
    "print(\"Accuracy score:\",accuracy_score(Y_test, predictions))\n",
    "print(\"Classification report:\\n\",classification_report(Y_test, predictions)) "
   ]
  },
  {
   "cell_type": "code",
   "execution_count": 8,
   "metadata": {},
   "outputs": [],
   "source": [
    "file_path=\"C:\\\\Users\\\\aryan\\\\Quantum_ML_on_Liver_Dataset\\\\EDA\\\\feature_smote_test.csv\"\n",
    "test=pd.read_csv(file_path,header=None)\n",
    "\n",
    "file_path=\"C:\\\\Users\\\\aryan\\\\Quantum_ML_on_Liver_Dataset\\\\EDA\\\\feature_smote_train.csv\"\n",
    "train=pd.read_csv(file_path,header=None)\n",
    "\n",
    "file_path=\"C:\\\\Users\\\\aryan\\\\Quantum_ML_on_Liver_Dataset\\\\EDA\\\\label_smote_test.csv\"\n",
    "labeltest=pd.read_csv(file_path,header=None)\n",
    "\n",
    "file_path=\"C:\\\\Users\\\\aryan\\\\Quantum_ML_on_Liver_Dataset\\\\EDA\\\\label_smote_train.csv\"\n",
    "labeltrain=pd.read_csv(file_path,header=None)\n"
   ]
  },
  {
   "cell_type": "code",
   "execution_count": 9,
   "metadata": {},
   "outputs": [
    {
     "name": "stderr",
     "output_type": "stream",
     "text": [
      "C:\\Users\\aryan\\AppData\\Local\\Temp\\ipykernel_9812\\1868480927.py:7: DataConversionWarning: A column-vector y was passed when a 1d array was expected. Please change the shape of y to (n_samples,), for example using ravel().\n",
      "  model.fit(xsmote_train, ysmote_train)\n"
     ]
    }
   ],
   "source": [
    "xsmote_test = test\n",
    "xsmote_train = train\n",
    "ysmote_test = labeltest\n",
    "ysmote_train = labeltrain\n",
    "\n",
    "model = RandomForestClassifier(n_estimators=10)\n",
    "model.fit(xsmote_train, ysmote_train)\n",
    "predictions = model.predict(xsmote_test)\n"
   ]
  },
  {
   "cell_type": "code",
   "execution_count": 10,
   "metadata": {},
   "outputs": [
    {
     "name": "stdout",
     "output_type": "stream",
     "text": [
      "Accuracy score: 0.7692307692307693\n",
      "Classification report:\n",
      "               precision    recall  f1-score   support\n",
      "\n",
      "         1.0       0.80      0.74      0.77        81\n",
      "         2.0       0.74      0.80      0.77        75\n",
      "\n",
      "    accuracy                           0.77       156\n",
      "   macro avg       0.77      0.77      0.77       156\n",
      "weighted avg       0.77      0.77      0.77       156\n",
      "\n"
     ]
    }
   ],
   "source": [
    "print(\"Accuracy score:\",accuracy_score(ysmote_test, predictions))\n",
    "print(\"Classification report:\\n\",classification_report(ysmote_test, predictions)) "
   ]
  }
 ],
 "metadata": {
  "kernelspec": {
   "display_name": "Python 3",
   "language": "python",
   "name": "python3"
  },
  "language_info": {
   "codemirror_mode": {
    "name": "ipython",
    "version": 3
   },
   "file_extension": ".py",
   "mimetype": "text/x-python",
   "name": "python",
   "nbconvert_exporter": "python",
   "pygments_lexer": "ipython3",
   "version": "3.11.4"
  }
 },
 "nbformat": 4,
 "nbformat_minor": 2
}
